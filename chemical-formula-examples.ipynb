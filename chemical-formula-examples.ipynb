{
 "cells": [
  {
   "cell_type": "markdown",
   "metadata": {},
   "source": [
    "# Examples using the chemformula module"
   ]
  },
  {
   "cell_type": "markdown",
   "metadata": {},
   "source": [
    "## Find the formula of 5g of ethanol producing 9.55 g of CO<sub>2</sub> and 5.87 g of H<sub>2</sub>O after combustion<sup>1</sup> \n",
    "\n",
    "Import libraries"
   ]
  },
  {
   "cell_type": "code",
   "execution_count": 1,
   "metadata": {},
   "outputs": [],
   "source": [
    "from chemformula import *\n",
    "from measurement import *"
   ]
  },
  {
   "cell_type": "markdown",
   "metadata": {},
   "source": [
    "Find the mass of Carbon from 9.55 g of CO<sub>2</sub>"
   ]
  },
  {
   "cell_type": "code",
   "execution_count": 2,
   "metadata": {},
   "outputs": [
    {
     "name": "stdout",
     "output_type": "stream",
     "text": [
      "2.61x10^0 g\n"
     ]
    }
   ],
   "source": [
    "carbon_dioxide = composition(\"CO2\", grams('9.55'))\n",
    "print(carbon_dioxide['C'].mass)"
   ]
  },
  {
   "cell_type": "markdown",
   "metadata": {},
   "source": [
    "Find the mass of Hydrogen in 5.87g of H<sub>2</sub>O"
   ]
  },
  {
   "cell_type": "code",
   "execution_count": 3,
   "metadata": {},
   "outputs": [
    {
     "name": "stdout",
     "output_type": "stream",
     "text": [
      "6.57x10^-1 g\n"
     ]
    }
   ],
   "source": [
    "water = composition(\"H2O\", grams('5.87'))\n",
    "print(water['H'].mass)"
   ]
  },
  {
   "cell_type": "markdown",
   "metadata": {},
   "source": [
    "Subtract the masses of carbon and hydrogen from ethanol to get the mass of oxygen"
   ]
  },
  {
   "cell_type": "code",
   "execution_count": 4,
   "metadata": {},
   "outputs": [
    {
     "name": "stdout",
     "output_type": "stream",
     "text": [
      "1.73x10^0 g\n"
     ]
    }
   ],
   "source": [
    "oxygen_mass = grams('5.00') - water['H'].mass - carbon_dioxide['C'].mass\n",
    "print(oxygen_mass)"
   ]
  },
  {
   "cell_type": "markdown",
   "metadata": {},
   "source": [
    "Construct a list of tuples of elements and measurements. Use the formula_from_mass() method to find formula."
   ]
  },
  {
   "cell_type": "code",
   "execution_count": 5,
   "metadata": {},
   "outputs": [
    {
     "name": "stdout",
     "output_type": "stream",
     "text": [
      "C2H6O\n"
     ]
    }
   ],
   "source": [
    "elements = [('C', carbon_dioxide['C'].mass),\n",
    "           ('H', water['H'].mass),\n",
    "           ('O', oxygen_mass)]\n",
    "formula = formula_from_mass(elements)\n",
    "print(formula)"
   ]
  },
  {
   "cell_type": "markdown",
   "metadata": {},
   "source": [
    "<sup>1</sup> Example taken from Masterton, William L. and Hurley, Cecile N. <em>Chemistry: Principles and Reactions</em> Saunders College Publishing, 1989"
   ]
  }
 ],
 "metadata": {
  "kernelspec": {
   "display_name": "Python 3",
   "language": "python",
   "name": "python3"
  },
  "language_info": {
   "codemirror_mode": {
    "name": "ipython",
    "version": 3
   },
   "file_extension": ".py",
   "mimetype": "text/x-python",
   "name": "python",
   "nbconvert_exporter": "python",
   "pygments_lexer": "ipython3",
   "version": "3.7.7"
  }
 },
 "nbformat": 4,
 "nbformat_minor": 4
}
